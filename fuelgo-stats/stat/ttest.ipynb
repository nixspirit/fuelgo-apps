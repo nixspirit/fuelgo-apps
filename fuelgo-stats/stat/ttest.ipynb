{
 "cells": [
  {
   "cell_type": "code",
   "id": "initial_id",
   "metadata": {
    "collapsed": true,
    "ExecuteTime": {
     "end_time": "2024-07-04T09:20:09.411085Z",
     "start_time": "2024-07-04T09:20:08.086813Z"
    }
   },
   "source": [
    "import warnings\n",
    "\n",
    "warnings.filterwarnings('ignore')\n",
    "import matplotlib.pyplot as plt\n",
    "import statistics\n",
    "from scipy.stats import norm\n",
    "import numpy as np\n",
    "# import pingouin as pg\n",
    "# from statsmodels.stats.weightstats import ttest_ind\n",
    "import seaborn as sns\n"
   ],
   "outputs": [
    {
     "ename": "ImportError",
     "evalue": "DLL load failed while importing _imaging: The specified module could not be found.",
     "output_type": "error",
     "traceback": [
      "\u001B[1;31m---------------------------------------------------------------------------\u001B[0m",
      "\u001B[1;31mImportError\u001B[0m                               Traceback (most recent call last)",
      "Cell \u001B[1;32mIn[7], line 4\u001B[0m\n\u001B[0;32m      1\u001B[0m \u001B[38;5;28;01mimport\u001B[39;00m \u001B[38;5;21;01mwarnings\u001B[39;00m\n\u001B[0;32m      3\u001B[0m warnings\u001B[38;5;241m.\u001B[39mfilterwarnings(\u001B[38;5;124m'\u001B[39m\u001B[38;5;124mignore\u001B[39m\u001B[38;5;124m'\u001B[39m)\n\u001B[1;32m----> 4\u001B[0m \u001B[38;5;28;01mimport\u001B[39;00m \u001B[38;5;21;01mmatplotlib\u001B[39;00m\u001B[38;5;21;01m.\u001B[39;00m\u001B[38;5;21;01mpyplot\u001B[39;00m \u001B[38;5;28;01mas\u001B[39;00m \u001B[38;5;21;01mplt\u001B[39;00m\n\u001B[0;32m      5\u001B[0m \u001B[38;5;28;01mimport\u001B[39;00m \u001B[38;5;21;01mstatistics\u001B[39;00m\n\u001B[0;32m      6\u001B[0m \u001B[38;5;28;01mfrom\u001B[39;00m \u001B[38;5;21;01mscipy\u001B[39;00m\u001B[38;5;21;01m.\u001B[39;00m\u001B[38;5;21;01mstats\u001B[39;00m \u001B[38;5;28;01mimport\u001B[39;00m norm\n",
      "File \u001B[1;32m~\\miniconda3\\envs\\fuelgo-stats\\Lib\\site-packages\\matplotlib\\__init__.py:172\u001B[0m\n\u001B[0;32m    163\u001B[0m \u001B[38;5;28;01mfrom\u001B[39;00m \u001B[38;5;21;01mmatplotlib\u001B[39;00m\u001B[38;5;21;01m.\u001B[39;00m\u001B[38;5;21;01mrcsetup\u001B[39;00m \u001B[38;5;28;01mimport\u001B[39;00m validate_backend\n\u001B[0;32m    166\u001B[0m _log \u001B[38;5;241m=\u001B[39m logging\u001B[38;5;241m.\u001B[39mgetLogger(\u001B[38;5;18m__name__\u001B[39m)\n\u001B[0;32m    168\u001B[0m __bibtex__ \u001B[38;5;241m=\u001B[39m \u001B[38;5;124mr\u001B[39m\u001B[38;5;124m\"\"\"\u001B[39m\u001B[38;5;124m@Article\u001B[39m\u001B[38;5;124m{\u001B[39m\u001B[38;5;124mHunter:2007,\u001B[39m\n\u001B[0;32m    169\u001B[0m \u001B[38;5;124m  Author    = \u001B[39m\u001B[38;5;124m{\u001B[39m\u001B[38;5;124mHunter, J. D.},\u001B[39m\n\u001B[0;32m    170\u001B[0m \u001B[38;5;124m  Title     = \u001B[39m\u001B[38;5;124m{\u001B[39m\u001B[38;5;124mMatplotlib: A 2D graphics environment},\u001B[39m\n\u001B[0;32m    171\u001B[0m \u001B[38;5;124m  Journal   = \u001B[39m\u001B[38;5;124m{\u001B[39m\u001B[38;5;124mComputing in Science \u001B[39m\u001B[38;5;124m\\\u001B[39m\u001B[38;5;124m& Engineering},\u001B[39m\n\u001B[1;32m--> 172\u001B[0m \u001B[38;5;124m  Volume    = \u001B[39m\u001B[38;5;132;01m{9}\u001B[39;00m\u001B[38;5;124m,\u001B[39m\n\u001B[0;32m    173\u001B[0m \u001B[38;5;124m  Number    = \u001B[39m\u001B[38;5;132;01m{3}\u001B[39;00m\u001B[38;5;124m,\u001B[39m\n\u001B[0;32m    174\u001B[0m \u001B[38;5;124m  Pages     = \u001B[39m\u001B[38;5;124m{\u001B[39m\u001B[38;5;124m90--95},\u001B[39m\n\u001B[0;32m    175\u001B[0m \u001B[38;5;124m  abstract  = \u001B[39m\u001B[38;5;124m{\u001B[39m\u001B[38;5;124mMatplotlib is a 2D graphics package used for Python\u001B[39m\n\u001B[0;32m    176\u001B[0m \u001B[38;5;124m  for application development, interactive scripting, and\u001B[39m\n\u001B[0;32m    177\u001B[0m \u001B[38;5;124m  publication-quality image generation across user\u001B[39m\n\u001B[0;32m    178\u001B[0m \u001B[38;5;124m  interfaces and operating systems.},\u001B[39m\n\u001B[0;32m    179\u001B[0m \u001B[38;5;124m  publisher = \u001B[39m\u001B[38;5;124m{\u001B[39m\u001B[38;5;124mIEEE COMPUTER SOC},\u001B[39m\n\u001B[0;32m    180\u001B[0m \u001B[38;5;124m  year      = 2007\u001B[39m\n\u001B[0;32m    181\u001B[0m \u001B[38;5;124m}\u001B[39m\u001B[38;5;124m\"\"\"\u001B[39m\n\u001B[0;32m    183\u001B[0m \u001B[38;5;66;03m# modelled after sys.version_info\u001B[39;00m\n\u001B[0;32m    184\u001B[0m _VersionInfo \u001B[38;5;241m=\u001B[39m namedtuple(\u001B[38;5;124m'\u001B[39m\u001B[38;5;124m_VersionInfo\u001B[39m\u001B[38;5;124m'\u001B[39m,\n\u001B[0;32m    185\u001B[0m                           \u001B[38;5;124m'\u001B[39m\u001B[38;5;124mmajor, minor, micro, releaselevel, serial\u001B[39m\u001B[38;5;124m'\u001B[39m)\n",
      "File \u001B[1;32m~\\miniconda3\\envs\\fuelgo-stats\\Lib\\site-packages\\matplotlib\\rcsetup.py:28\u001B[0m\n\u001B[0;32m     26\u001B[0m \u001B[38;5;28;01mfrom\u001B[39;00m \u001B[38;5;21;01mmatplotlib\u001B[39;00m\u001B[38;5;21;01m.\u001B[39;00m\u001B[38;5;21;01mbackends\u001B[39;00m \u001B[38;5;28;01mimport\u001B[39;00m BackendFilter, backend_registry\n\u001B[0;32m     27\u001B[0m \u001B[38;5;28;01mfrom\u001B[39;00m \u001B[38;5;21;01mmatplotlib\u001B[39;00m\u001B[38;5;21;01m.\u001B[39;00m\u001B[38;5;21;01mcbook\u001B[39;00m \u001B[38;5;28;01mimport\u001B[39;00m ls_mapper\n\u001B[1;32m---> 28\u001B[0m \u001B[38;5;28;01mfrom\u001B[39;00m \u001B[38;5;21;01mmatplotlib\u001B[39;00m\u001B[38;5;21;01m.\u001B[39;00m\u001B[38;5;21;01mcolors\u001B[39;00m \u001B[38;5;28;01mimport\u001B[39;00m Colormap, is_color_like\n\u001B[0;32m     29\u001B[0m \u001B[38;5;28;01mfrom\u001B[39;00m \u001B[38;5;21;01mmatplotlib\u001B[39;00m\u001B[38;5;21;01m.\u001B[39;00m\u001B[38;5;21;01m_fontconfig_pattern\u001B[39;00m \u001B[38;5;28;01mimport\u001B[39;00m parse_fontconfig_pattern\n\u001B[0;32m     30\u001B[0m \u001B[38;5;28;01mfrom\u001B[39;00m \u001B[38;5;21;01mmatplotlib\u001B[39;00m\u001B[38;5;21;01m.\u001B[39;00m\u001B[38;5;21;01m_enums\u001B[39;00m \u001B[38;5;28;01mimport\u001B[39;00m JoinStyle, CapStyle\n",
      "File \u001B[1;32m~\\miniconda3\\envs\\fuelgo-stats\\Lib\\site-packages\\matplotlib\\colors.py:52\u001B[0m\n\u001B[0;32m     49\u001B[0m \u001B[38;5;28;01mfrom\u001B[39;00m \u001B[38;5;21;01mnumbers\u001B[39;00m \u001B[38;5;28;01mimport\u001B[39;00m Real\n\u001B[0;32m     50\u001B[0m \u001B[38;5;28;01mimport\u001B[39;00m \u001B[38;5;21;01mre\u001B[39;00m\n\u001B[1;32m---> 52\u001B[0m \u001B[38;5;28;01mfrom\u001B[39;00m \u001B[38;5;21;01mPIL\u001B[39;00m \u001B[38;5;28;01mimport\u001B[39;00m Image\n\u001B[0;32m     53\u001B[0m \u001B[38;5;28;01mfrom\u001B[39;00m \u001B[38;5;21;01mPIL\u001B[39;00m\u001B[38;5;21;01m.\u001B[39;00m\u001B[38;5;21;01mPngImagePlugin\u001B[39;00m \u001B[38;5;28;01mimport\u001B[39;00m PngInfo\n\u001B[0;32m     55\u001B[0m \u001B[38;5;28;01mimport\u001B[39;00m \u001B[38;5;21;01mmatplotlib\u001B[39;00m \u001B[38;5;28;01mas\u001B[39;00m \u001B[38;5;21;01mmpl\u001B[39;00m\n",
      "File \u001B[1;32m~\\miniconda3\\envs\\fuelgo-stats\\Lib\\site-packages\\PIL\\Image.py:88\u001B[0m\n\u001B[0;32m     79\u001B[0m MAX_IMAGE_PIXELS: \u001B[38;5;28mint\u001B[39m \u001B[38;5;241m|\u001B[39m \u001B[38;5;28;01mNone\u001B[39;00m \u001B[38;5;241m=\u001B[39m \u001B[38;5;28mint\u001B[39m(\u001B[38;5;241m1024\u001B[39m \u001B[38;5;241m*\u001B[39m \u001B[38;5;241m1024\u001B[39m \u001B[38;5;241m*\u001B[39m \u001B[38;5;241m1024\u001B[39m \u001B[38;5;241m/\u001B[39m\u001B[38;5;241m/\u001B[39m \u001B[38;5;241m4\u001B[39m \u001B[38;5;241m/\u001B[39m\u001B[38;5;241m/\u001B[39m \u001B[38;5;241m3\u001B[39m)\n\u001B[0;32m     82\u001B[0m \u001B[38;5;28;01mtry\u001B[39;00m:\n\u001B[0;32m     83\u001B[0m     \u001B[38;5;66;03m# If the _imaging C module is not present, Pillow will not load.\u001B[39;00m\n\u001B[0;32m     84\u001B[0m     \u001B[38;5;66;03m# Note that other modules should not refer to _imaging directly;\u001B[39;00m\n\u001B[0;32m     85\u001B[0m     \u001B[38;5;66;03m# import Image and use the Image.core variable instead.\u001B[39;00m\n\u001B[0;32m     86\u001B[0m     \u001B[38;5;66;03m# Also note that Image.core is not a publicly documented interface,\u001B[39;00m\n\u001B[0;32m     87\u001B[0m     \u001B[38;5;66;03m# and should be considered private and subject to change.\u001B[39;00m\n\u001B[1;32m---> 88\u001B[0m     \u001B[38;5;28;01mfrom\u001B[39;00m \u001B[38;5;21;01m.\u001B[39;00m \u001B[38;5;28;01mimport\u001B[39;00m _imaging \u001B[38;5;28;01mas\u001B[39;00m core\n\u001B[0;32m     90\u001B[0m     \u001B[38;5;28;01mif\u001B[39;00m __version__ \u001B[38;5;241m!=\u001B[39m \u001B[38;5;28mgetattr\u001B[39m(core, \u001B[38;5;124m\"\u001B[39m\u001B[38;5;124mPILLOW_VERSION\u001B[39m\u001B[38;5;124m\"\u001B[39m, \u001B[38;5;28;01mNone\u001B[39;00m):\n\u001B[0;32m     91\u001B[0m         msg \u001B[38;5;241m=\u001B[39m (\n\u001B[0;32m     92\u001B[0m             \u001B[38;5;124m\"\u001B[39m\u001B[38;5;124mThe _imaging extension was built for another version of Pillow or PIL:\u001B[39m\u001B[38;5;130;01m\\n\u001B[39;00m\u001B[38;5;124m\"\u001B[39m\n\u001B[0;32m     93\u001B[0m             \u001B[38;5;124mf\u001B[39m\u001B[38;5;124m\"\u001B[39m\u001B[38;5;124mCore version: \u001B[39m\u001B[38;5;132;01m{\u001B[39;00m\u001B[38;5;28mgetattr\u001B[39m(core,\u001B[38;5;250m \u001B[39m\u001B[38;5;124m'\u001B[39m\u001B[38;5;124mPILLOW_VERSION\u001B[39m\u001B[38;5;124m'\u001B[39m,\u001B[38;5;250m \u001B[39m\u001B[38;5;28;01mNone\u001B[39;00m)\u001B[38;5;132;01m}\u001B[39;00m\u001B[38;5;130;01m\\n\u001B[39;00m\u001B[38;5;124m\"\u001B[39m\n\u001B[0;32m     94\u001B[0m             \u001B[38;5;124mf\u001B[39m\u001B[38;5;124m\"\u001B[39m\u001B[38;5;124mPillow version: \u001B[39m\u001B[38;5;132;01m{\u001B[39;00m__version__\u001B[38;5;132;01m}\u001B[39;00m\u001B[38;5;124m\"\u001B[39m\n\u001B[0;32m     95\u001B[0m         )\n",
      "\u001B[1;31mImportError\u001B[0m: DLL load failed while importing _imaging: The specified module could not be found."
     ]
    }
   ],
   "execution_count": 7
  },
  {
   "metadata": {},
   "cell_type": "code",
   "source": [
    "# y_control = np.array([5.5, 5.8, 5.9, 6.8, 7.9, 8.1, 8.2, 9.5, 10.2, 11.7])\n",
    "# y_test = np.array([4.3, 4.7, 4.7, 5.5, 5.7, 5.9, 5.9, 6.5, 7.7, 8.3])\n"
   ],
   "id": "8b47f647a36027fe",
   "outputs": [],
   "execution_count": null
  },
  {
   "metadata": {},
   "cell_type": "code",
   "source": [
    "\n",
    "# Calculating mean and standard deviation \n",
    "# mean = statistics.mean(y_control)\n",
    "# sd = statistics.stdev(y_control)\n",
    "# \n",
    "# plt.plot(y_control, norm.pdf(y_control, mean, sd))\n",
    "# plt.show()"
   ],
   "id": "e9a83206510fd65a",
   "outputs": [],
   "execution_count": null
  },
  {
   "metadata": {},
   "cell_type": "code",
   "source": [
    "import pingouin as pg\n",
    "\n",
    "# Conducting two-sample ttest\n",
    "y_control = np.array([5.5, 5.8, 5.9, 6.8, 7.9, 8.1, 8.2, 9.5, 10.2, 11.7])\n",
    "y_test = np.array([4.3, 4.7, 4.7, 5.5, 5.7, 5.9, 5.9, 6.5, 7.7, 8.3])\n",
    "\n",
    "result = pg.ttest(y_control, y_test, correction=True).round(3)\n",
    "print(result)"
   ],
   "id": "a4ebf8602f103dc6",
   "outputs": [],
   "execution_count": null
  },
  {
   "metadata": {},
   "cell_type": "code",
   "source": [
    "sns.histplot(y_control, bins=30, kde=True, stat='probability')\n",
    "plt.xlabel('Height (Men)')\n",
    "plt.ylabel('Probability')\n",
    "plt.title(\"Distribution of Men's Height\")\n",
    "plt.xticks(range(155,200,5))\n",
    "plt.show()"
   ],
   "id": "5ccb2873549f9a2e",
   "outputs": [],
   "execution_count": null
  },
  {
   "metadata": {
    "ExecuteTime": {
     "end_time": "2024-07-04T09:41:14.305985Z",
     "start_time": "2024-07-04T09:41:13.092075Z"
    }
   },
   "cell_type": "code",
   "source": [
    "#https://python-fiddle.com/examples/matplotlib?checkpoint=1720086049\n",
    "\n",
    "import matplotlib.pyplot as plt\n",
    "import seaborn as sns\n",
    "import numpy as np\n",
    "from scipy.stats import norm\n",
    "import statistics\n",
    "\n",
    "control = np.array([5.5, 5.8, 5.9, 6.8, 7.9, 8.1, 8.2, 9.5, 10.2, 11.7])\n",
    "test = np.array([4.3, 4.7, 4.7, 5.5, 5.7, 5.9, 5.9, 6.5, 7.7, 8.3])\n",
    "\n",
    "control_mean = statistics.mean(control)\n",
    "control_sd = statistics.stdev(control)\n",
    "\n",
    "test_mean = statistics.mean(test)\n",
    "test_sd = statistics.stdev(test)\n",
    "\n",
    "plt.xlabel('Transaction Time (mins)')\n",
    "plt.ylabel('Probability')\n",
    "plt.title(\"Distribution of Transaction Time\")\n",
    "\n",
    "plt.plot(control, norm.pdf(control, mean, sd), label='Control', color='gold')\n",
    "plt.plot(test, norm.pdf(test, test_mean, test_sd), label='App', color='red')\n",
    "\n",
    "plt.legend(title='Parameters')\n",
    "\n",
    "plt.title('Normal Distributions Of Transaction Time', fontsize=14)\n",
    "plt.show()"
   ],
   "id": "d1a3ca31c744edf1",
   "outputs": [
    {
     "ename": "ImportError",
     "evalue": "DLL load failed while importing _imaging: The specified module could not be found.",
     "output_type": "error",
     "traceback": [
      "\u001B[1;31m---------------------------------------------------------------------------\u001B[0m",
      "\u001B[1;31mImportError\u001B[0m                               Traceback (most recent call last)",
      "Cell \u001B[1;32mIn[8], line 1\u001B[0m\n\u001B[1;32m----> 1\u001B[0m \u001B[38;5;28;01mimport\u001B[39;00m \u001B[38;5;21;01mmatplotlib\u001B[39;00m\u001B[38;5;21;01m.\u001B[39;00m\u001B[38;5;21;01mpyplot\u001B[39;00m \u001B[38;5;28;01mas\u001B[39;00m \u001B[38;5;21;01mplt\u001B[39;00m\n\u001B[0;32m      2\u001B[0m \u001B[38;5;28;01mimport\u001B[39;00m \u001B[38;5;21;01mseaborn\u001B[39;00m \u001B[38;5;28;01mas\u001B[39;00m \u001B[38;5;21;01msns\u001B[39;00m\n\u001B[0;32m      3\u001B[0m \u001B[38;5;28;01mimport\u001B[39;00m \u001B[38;5;21;01mnumpy\u001B[39;00m \u001B[38;5;28;01mas\u001B[39;00m \u001B[38;5;21;01mnp\u001B[39;00m\n",
      "File \u001B[1;32m~\\miniconda3\\envs\\fuelgo-stats\\Lib\\site-packages\\matplotlib\\__init__.py:172\u001B[0m\n\u001B[0;32m    163\u001B[0m \u001B[38;5;28;01mfrom\u001B[39;00m \u001B[38;5;21;01mmatplotlib\u001B[39;00m\u001B[38;5;21;01m.\u001B[39;00m\u001B[38;5;21;01mrcsetup\u001B[39;00m \u001B[38;5;28;01mimport\u001B[39;00m validate_backend\n\u001B[0;32m    166\u001B[0m _log \u001B[38;5;241m=\u001B[39m logging\u001B[38;5;241m.\u001B[39mgetLogger(\u001B[38;5;18m__name__\u001B[39m)\n\u001B[0;32m    168\u001B[0m __bibtex__ \u001B[38;5;241m=\u001B[39m \u001B[38;5;124mr\u001B[39m\u001B[38;5;124m\"\"\"\u001B[39m\u001B[38;5;124m@Article\u001B[39m\u001B[38;5;124m{\u001B[39m\u001B[38;5;124mHunter:2007,\u001B[39m\n\u001B[0;32m    169\u001B[0m \u001B[38;5;124m  Author    = \u001B[39m\u001B[38;5;124m{\u001B[39m\u001B[38;5;124mHunter, J. D.},\u001B[39m\n\u001B[0;32m    170\u001B[0m \u001B[38;5;124m  Title     = \u001B[39m\u001B[38;5;124m{\u001B[39m\u001B[38;5;124mMatplotlib: A 2D graphics environment},\u001B[39m\n\u001B[0;32m    171\u001B[0m \u001B[38;5;124m  Journal   = \u001B[39m\u001B[38;5;124m{\u001B[39m\u001B[38;5;124mComputing in Science \u001B[39m\u001B[38;5;124m\\\u001B[39m\u001B[38;5;124m& Engineering},\u001B[39m\n\u001B[1;32m--> 172\u001B[0m \u001B[38;5;124m  Volume    = \u001B[39m\u001B[38;5;132;01m{9}\u001B[39;00m\u001B[38;5;124m,\u001B[39m\n\u001B[0;32m    173\u001B[0m \u001B[38;5;124m  Number    = \u001B[39m\u001B[38;5;132;01m{3}\u001B[39;00m\u001B[38;5;124m,\u001B[39m\n\u001B[0;32m    174\u001B[0m \u001B[38;5;124m  Pages     = \u001B[39m\u001B[38;5;124m{\u001B[39m\u001B[38;5;124m90--95},\u001B[39m\n\u001B[0;32m    175\u001B[0m \u001B[38;5;124m  abstract  = \u001B[39m\u001B[38;5;124m{\u001B[39m\u001B[38;5;124mMatplotlib is a 2D graphics package used for Python\u001B[39m\n\u001B[0;32m    176\u001B[0m \u001B[38;5;124m  for application development, interactive scripting, and\u001B[39m\n\u001B[0;32m    177\u001B[0m \u001B[38;5;124m  publication-quality image generation across user\u001B[39m\n\u001B[0;32m    178\u001B[0m \u001B[38;5;124m  interfaces and operating systems.},\u001B[39m\n\u001B[0;32m    179\u001B[0m \u001B[38;5;124m  publisher = \u001B[39m\u001B[38;5;124m{\u001B[39m\u001B[38;5;124mIEEE COMPUTER SOC},\u001B[39m\n\u001B[0;32m    180\u001B[0m \u001B[38;5;124m  year      = 2007\u001B[39m\n\u001B[0;32m    181\u001B[0m \u001B[38;5;124m}\u001B[39m\u001B[38;5;124m\"\"\"\u001B[39m\n\u001B[0;32m    183\u001B[0m \u001B[38;5;66;03m# modelled after sys.version_info\u001B[39;00m\n\u001B[0;32m    184\u001B[0m _VersionInfo \u001B[38;5;241m=\u001B[39m namedtuple(\u001B[38;5;124m'\u001B[39m\u001B[38;5;124m_VersionInfo\u001B[39m\u001B[38;5;124m'\u001B[39m,\n\u001B[0;32m    185\u001B[0m                           \u001B[38;5;124m'\u001B[39m\u001B[38;5;124mmajor, minor, micro, releaselevel, serial\u001B[39m\u001B[38;5;124m'\u001B[39m)\n",
      "File \u001B[1;32m~\\miniconda3\\envs\\fuelgo-stats\\Lib\\site-packages\\matplotlib\\rcsetup.py:28\u001B[0m\n\u001B[0;32m     26\u001B[0m \u001B[38;5;28;01mfrom\u001B[39;00m \u001B[38;5;21;01mmatplotlib\u001B[39;00m\u001B[38;5;21;01m.\u001B[39;00m\u001B[38;5;21;01mbackends\u001B[39;00m \u001B[38;5;28;01mimport\u001B[39;00m BackendFilter, backend_registry\n\u001B[0;32m     27\u001B[0m \u001B[38;5;28;01mfrom\u001B[39;00m \u001B[38;5;21;01mmatplotlib\u001B[39;00m\u001B[38;5;21;01m.\u001B[39;00m\u001B[38;5;21;01mcbook\u001B[39;00m \u001B[38;5;28;01mimport\u001B[39;00m ls_mapper\n\u001B[1;32m---> 28\u001B[0m \u001B[38;5;28;01mfrom\u001B[39;00m \u001B[38;5;21;01mmatplotlib\u001B[39;00m\u001B[38;5;21;01m.\u001B[39;00m\u001B[38;5;21;01mcolors\u001B[39;00m \u001B[38;5;28;01mimport\u001B[39;00m Colormap, is_color_like\n\u001B[0;32m     29\u001B[0m \u001B[38;5;28;01mfrom\u001B[39;00m \u001B[38;5;21;01mmatplotlib\u001B[39;00m\u001B[38;5;21;01m.\u001B[39;00m\u001B[38;5;21;01m_fontconfig_pattern\u001B[39;00m \u001B[38;5;28;01mimport\u001B[39;00m parse_fontconfig_pattern\n\u001B[0;32m     30\u001B[0m \u001B[38;5;28;01mfrom\u001B[39;00m \u001B[38;5;21;01mmatplotlib\u001B[39;00m\u001B[38;5;21;01m.\u001B[39;00m\u001B[38;5;21;01m_enums\u001B[39;00m \u001B[38;5;28;01mimport\u001B[39;00m JoinStyle, CapStyle\n",
      "File \u001B[1;32m~\\miniconda3\\envs\\fuelgo-stats\\Lib\\site-packages\\matplotlib\\colors.py:52\u001B[0m\n\u001B[0;32m     49\u001B[0m \u001B[38;5;28;01mfrom\u001B[39;00m \u001B[38;5;21;01mnumbers\u001B[39;00m \u001B[38;5;28;01mimport\u001B[39;00m Real\n\u001B[0;32m     50\u001B[0m \u001B[38;5;28;01mimport\u001B[39;00m \u001B[38;5;21;01mre\u001B[39;00m\n\u001B[1;32m---> 52\u001B[0m \u001B[38;5;28;01mfrom\u001B[39;00m \u001B[38;5;21;01mPIL\u001B[39;00m \u001B[38;5;28;01mimport\u001B[39;00m Image\n\u001B[0;32m     53\u001B[0m \u001B[38;5;28;01mfrom\u001B[39;00m \u001B[38;5;21;01mPIL\u001B[39;00m\u001B[38;5;21;01m.\u001B[39;00m\u001B[38;5;21;01mPngImagePlugin\u001B[39;00m \u001B[38;5;28;01mimport\u001B[39;00m PngInfo\n\u001B[0;32m     55\u001B[0m \u001B[38;5;28;01mimport\u001B[39;00m \u001B[38;5;21;01mmatplotlib\u001B[39;00m \u001B[38;5;28;01mas\u001B[39;00m \u001B[38;5;21;01mmpl\u001B[39;00m\n",
      "File \u001B[1;32m~\\miniconda3\\envs\\fuelgo-stats\\Lib\\site-packages\\PIL\\Image.py:88\u001B[0m\n\u001B[0;32m     79\u001B[0m MAX_IMAGE_PIXELS: \u001B[38;5;28mint\u001B[39m \u001B[38;5;241m|\u001B[39m \u001B[38;5;28;01mNone\u001B[39;00m \u001B[38;5;241m=\u001B[39m \u001B[38;5;28mint\u001B[39m(\u001B[38;5;241m1024\u001B[39m \u001B[38;5;241m*\u001B[39m \u001B[38;5;241m1024\u001B[39m \u001B[38;5;241m*\u001B[39m \u001B[38;5;241m1024\u001B[39m \u001B[38;5;241m/\u001B[39m\u001B[38;5;241m/\u001B[39m \u001B[38;5;241m4\u001B[39m \u001B[38;5;241m/\u001B[39m\u001B[38;5;241m/\u001B[39m \u001B[38;5;241m3\u001B[39m)\n\u001B[0;32m     82\u001B[0m \u001B[38;5;28;01mtry\u001B[39;00m:\n\u001B[0;32m     83\u001B[0m     \u001B[38;5;66;03m# If the _imaging C module is not present, Pillow will not load.\u001B[39;00m\n\u001B[0;32m     84\u001B[0m     \u001B[38;5;66;03m# Note that other modules should not refer to _imaging directly;\u001B[39;00m\n\u001B[0;32m     85\u001B[0m     \u001B[38;5;66;03m# import Image and use the Image.core variable instead.\u001B[39;00m\n\u001B[0;32m     86\u001B[0m     \u001B[38;5;66;03m# Also note that Image.core is not a publicly documented interface,\u001B[39;00m\n\u001B[0;32m     87\u001B[0m     \u001B[38;5;66;03m# and should be considered private and subject to change.\u001B[39;00m\n\u001B[1;32m---> 88\u001B[0m     \u001B[38;5;28;01mfrom\u001B[39;00m \u001B[38;5;21;01m.\u001B[39;00m \u001B[38;5;28;01mimport\u001B[39;00m _imaging \u001B[38;5;28;01mas\u001B[39;00m core\n\u001B[0;32m     90\u001B[0m     \u001B[38;5;28;01mif\u001B[39;00m __version__ \u001B[38;5;241m!=\u001B[39m \u001B[38;5;28mgetattr\u001B[39m(core, \u001B[38;5;124m\"\u001B[39m\u001B[38;5;124mPILLOW_VERSION\u001B[39m\u001B[38;5;124m\"\u001B[39m, \u001B[38;5;28;01mNone\u001B[39;00m):\n\u001B[0;32m     91\u001B[0m         msg \u001B[38;5;241m=\u001B[39m (\n\u001B[0;32m     92\u001B[0m             \u001B[38;5;124m\"\u001B[39m\u001B[38;5;124mThe _imaging extension was built for another version of Pillow or PIL:\u001B[39m\u001B[38;5;130;01m\\n\u001B[39;00m\u001B[38;5;124m\"\u001B[39m\n\u001B[0;32m     93\u001B[0m             \u001B[38;5;124mf\u001B[39m\u001B[38;5;124m\"\u001B[39m\u001B[38;5;124mCore version: \u001B[39m\u001B[38;5;132;01m{\u001B[39;00m\u001B[38;5;28mgetattr\u001B[39m(core,\u001B[38;5;250m \u001B[39m\u001B[38;5;124m'\u001B[39m\u001B[38;5;124mPILLOW_VERSION\u001B[39m\u001B[38;5;124m'\u001B[39m,\u001B[38;5;250m \u001B[39m\u001B[38;5;28;01mNone\u001B[39;00m)\u001B[38;5;132;01m}\u001B[39;00m\u001B[38;5;130;01m\\n\u001B[39;00m\u001B[38;5;124m\"\u001B[39m\n\u001B[0;32m     94\u001B[0m             \u001B[38;5;124mf\u001B[39m\u001B[38;5;124m\"\u001B[39m\u001B[38;5;124mPillow version: \u001B[39m\u001B[38;5;132;01m{\u001B[39;00m__version__\u001B[38;5;132;01m}\u001B[39;00m\u001B[38;5;124m\"\u001B[39m\n\u001B[0;32m     95\u001B[0m         )\n",
      "\u001B[1;31mImportError\u001B[0m: DLL load failed while importing _imaging: The specified module could not be found."
     ]
    }
   ],
   "execution_count": 8
  },
  {
   "metadata": {},
   "cell_type": "code",
   "outputs": [],
   "execution_count": null,
   "source": "",
   "id": "364126c633fb8b7f"
  }
 ],
 "metadata": {
  "kernelspec": {
   "display_name": "Python 3",
   "language": "python",
   "name": "python3"
  },
  "language_info": {
   "codemirror_mode": {
    "name": "ipython",
    "version": 2
   },
   "file_extension": ".py",
   "mimetype": "text/x-python",
   "name": "python",
   "nbconvert_exporter": "python",
   "pygments_lexer": "ipython2",
   "version": "2.7.6"
  }
 },
 "nbformat": 4,
 "nbformat_minor": 5
}
